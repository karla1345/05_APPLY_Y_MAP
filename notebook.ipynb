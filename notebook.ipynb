{
 "cells": [
  {
   "cell_type": "code",
   "execution_count": 1,
   "metadata": {},
   "outputs": [],
   "source": [
    "import pandas as pd"
   ]
  },
  {
   "cell_type": "code",
   "execution_count": 2,
   "metadata": {},
   "outputs": [],
   "source": [
    "inventario = pd.read_csv('data/supermarket_sales - Sheet1.csv')"
   ]
  },
  {
   "cell_type": "markdown",
   "metadata": {},
   "source": [
    "# 1. Calcular el Total de Ventas por Producto"
   ]
  },
  {
   "cell_type": "markdown",
   "metadata": {},
   "source": [
    "#### Usaremos el método apply para calcular el total de ventas (cantidad * precio unitario) para cada producto. Crearemos una nueva columna llamada total_ventas.\n",
    "\n"
   ]
  },
  {
   "cell_type": "code",
   "execution_count": 8,
   "metadata": {},
   "outputs": [],
   "source": [
    "ventas_df = pd.DataFrame({'producto': ['Producto A', 'Producto B', 'Producto C'],'cantidad': [100, 200, 150],'precio_unitario': [10.5, 15.0, 12.75]})"
   ]
  },
  {
   "cell_type": "code",
   "execution_count": 9,
   "metadata": {},
   "outputs": [],
   "source": [
    "ventas_df['total_ventas'] = ventas_df.apply(lambda row: row['cantidad'] * row['precio_unitario'], axis=1)\n"
   ]
  },
  {
   "cell_type": "code",
   "execution_count": 10,
   "metadata": {},
   "outputs": [
    {
     "name": "stdout",
     "output_type": "stream",
     "text": [
      "     producto  cantidad  precio_unitario  total_ventas\n",
      "0  Producto A       100            10.50        1050.0\n",
      "1  Producto B       200            15.00        3000.0\n",
      "2  Producto C       150            12.75        1912.5\n"
     ]
    }
   ],
   "source": [
    "print(ventas_df)"
   ]
  },
  {
   "cell_type": "markdown",
   "metadata": {},
   "source": [
    "# 2.  Aplicar Descuento a los Precios"
   ]
  },
  {
   "cell_type": "markdown",
   "metadata": {},
   "source": [
    "### Supongamos que queremos aplicar un descuento del 10% a todos los precios unitarios. Usaremos el método map para actualizar los valores de la columna precio_unitario"
   ]
  },
  {
   "cell_type": "code",
   "execution_count": 12,
   "metadata": {},
   "outputs": [],
   "source": [
    "precios_unitarios = [100, 200, 150, 180, 220]\n"
   ]
  },
  {
   "cell_type": "code",
   "execution_count": 19,
   "metadata": {},
   "outputs": [],
   "source": [
    "def aplicar_descuento(precio): return precio * 0.9\n"
   ]
  },
  {
   "cell_type": "code",
   "execution_count": 14,
   "metadata": {},
   "outputs": [],
   "source": [
    "precios_con_descuento = list(map(aplicar_descuento, precios_unitarios))"
   ]
  },
  {
   "cell_type": "code",
   "execution_count": 15,
   "metadata": {},
   "outputs": [
    {
     "name": "stdout",
     "output_type": "stream",
     "text": [
      "[90.0, 180.0, 135.0, 162.0, 198.0]\n"
     ]
    }
   ],
   "source": [
    "print(precios_con_descuento)"
   ]
  },
  {
   "cell_type": "markdown",
   "metadata": {},
   "source": [
    "# 3.  Calcular el Precio Promedio por Producto"
   ]
  },
  {
   "cell_type": "markdown",
   "metadata": {},
   "source": [
    "### Utilizaremos el método apply para calcular el precio promedio por producto. Crearemos una nueva columna llamada precio_promedio"
   ]
  },
  {
   "cell_type": "code",
   "execution_count": 31,
   "metadata": {},
   "outputs": [
    {
     "name": "stdout",
     "output_type": "stream",
     "text": [
      "  producto  precio  precio_promedio\n",
      "0        A      10        11.666667\n",
      "1        B      20        22.500000\n",
      "2        A      15        11.666667\n",
      "3        C      30        32.500000\n",
      "4        B      25        22.500000\n",
      "5        A      10        11.666667\n",
      "6        C      35        32.500000\n"
     ]
    }
   ],
   "source": [
    "\n",
    "data = { 'producto': ['A', 'B', 'A', 'C', 'B', 'A', 'C'], 'precio': [10, 20, 15, 30, 25, 10, 35]}\n",
    "\n",
    "df = pd.DataFrame(data)\n",
    "\n",
    "# Definir una función para calcular el precio promedio por producto\n",
    "def calcular_precio_promedio(row, df):\n",
    "    producto = row['producto']\n",
    "    precio_promedio = df[df['producto'] == producto]['precio'].mean()\n",
    "    return precio_promedio\n",
    "\n",
    "# Aplicar la función y crear la nueva columna 'precio_promedio'\n",
    "df['precio_promedio'] = df.apply(lambda row: calcular_precio_promedio(row, df), axis=1)\n",
    "\n",
    "print(df)\n"
   ]
  }
 ],
 "metadata": {
  "kernelspec": {
   "display_name": "Python 3",
   "language": "python",
   "name": "python3"
  },
  "language_info": {
   "codemirror_mode": {
    "name": "ipython",
    "version": 3
   },
   "file_extension": ".py",
   "mimetype": "text/x-python",
   "name": "python",
   "nbconvert_exporter": "python",
   "pygments_lexer": "ipython3",
   "version": "3.11.9"
  }
 },
 "nbformat": 4,
 "nbformat_minor": 2
}
